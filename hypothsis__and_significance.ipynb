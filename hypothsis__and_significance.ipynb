{
  "nbformat": 4,
  "nbformat_minor": 0,
  "metadata": {
    "colab": {
      "name": "hypothsis_ and_significance.ipynb",
      "provenance": [],
      "collapsed_sections": [],
      "authorship_tag": "ABX9TyOkiwevmjLMu67goc3c/htx",
      "include_colab_link": true
    },
    "kernelspec": {
      "name": "python3",
      "display_name": "Python 3"
    },
    "language_info": {
      "name": "python"
    }
  },
  "cells": [
    {
      "cell_type": "markdown",
      "metadata": {
        "id": "view-in-github",
        "colab_type": "text"
      },
      "source": [
        "<a href=\"https://colab.research.google.com/github/mesrp88/mathbehind_ml/blob/main/hypothsis__and_significance.ipynb\" target=\"_parent\"><img src=\"https://colab.research.google.com/assets/colab-badge.svg\" alt=\"Open In Colab\"/></a>"
      ]
    },
    {
      "cell_type": "markdown",
      "metadata": {
        "id": "MsPnotpMNFXZ"
      },
      "source": [
        "We use hypothesis testing to determine if a change we made had a meaningful impact or not.\n"
      ]
    },
    {
      "cell_type": "code",
      "metadata": {
        "id": "9KAJUv_8GGp8"
      },
      "source": [
        "import pandas as pd\n",
        "import numpy as np\n"
      ],
      "execution_count": 1,
      "outputs": []
    },
    {
      "cell_type": "code",
      "metadata": {
        "colab": {
          "base_uri": "https://localhost:8080/",
          "height": 197
        },
        "id": "4tGA-XgpXNhx",
        "outputId": "6f359f82-1c4c-42a5-9a00-6e9283fe1109"
      },
      "source": [
        "weight_loss= pd.read_csv('/content/weight_loss.csv', names=['weight_loss_a', 'weight_loss_b'])\n",
        "weight_loss.head()"
      ],
      "execution_count": 2,
      "outputs": [
        {
          "output_type": "execute_result",
          "data": {
            "text/html": [
              "<div>\n",
              "<style scoped>\n",
              "    .dataframe tbody tr th:only-of-type {\n",
              "        vertical-align: middle;\n",
              "    }\n",
              "\n",
              "    .dataframe tbody tr th {\n",
              "        vertical-align: top;\n",
              "    }\n",
              "\n",
              "    .dataframe thead th {\n",
              "        text-align: right;\n",
              "    }\n",
              "</style>\n",
              "<table border=\"1\" class=\"dataframe\">\n",
              "  <thead>\n",
              "    <tr style=\"text-align: right;\">\n",
              "      <th></th>\n",
              "      <th>weight_loss_a</th>\n",
              "      <th>weight_loss_b</th>\n",
              "    </tr>\n",
              "  </thead>\n",
              "  <tbody>\n",
              "    <tr>\n",
              "      <th>0</th>\n",
              "      <td>3</td>\n",
              "      <td>5</td>\n",
              "    </tr>\n",
              "    <tr>\n",
              "      <th>1</th>\n",
              "      <td>2</td>\n",
              "      <td>4</td>\n",
              "    </tr>\n",
              "    <tr>\n",
              "      <th>2</th>\n",
              "      <td>3</td>\n",
              "      <td>5</td>\n",
              "    </tr>\n",
              "    <tr>\n",
              "      <th>3</th>\n",
              "      <td>4</td>\n",
              "      <td>5</td>\n",
              "    </tr>\n",
              "    <tr>\n",
              "      <th>4</th>\n",
              "      <td>3</td>\n",
              "      <td>4</td>\n",
              "    </tr>\n",
              "  </tbody>\n",
              "</table>\n",
              "</div>"
            ],
            "text/plain": [
              "   weight_loss_a  weight_loss_b\n",
              "0              3              5\n",
              "1              2              4\n",
              "2              3              5\n",
              "3              4              5\n",
              "4              3              4"
            ]
          },
          "metadata": {
            "tags": []
          },
          "execution_count": 2
        }
      ]
    },
    {
      "cell_type": "code",
      "metadata": {
        "id": "Oo9fnxI_XzQm",
        "colab": {
          "base_uri": "https://localhost:8080/"
        },
        "outputId": "8ce1cc8d-6064-4da6-d13f-5a4a35f81bb1"
      },
      "source": [
        "weight_loss.shape"
      ],
      "execution_count": 3,
      "outputs": [
        {
          "output_type": "execute_result",
          "data": {
            "text/plain": [
              "(50, 2)"
            ]
          },
          "metadata": {
            "tags": []
          },
          "execution_count": 3
        }
      ]
    },
    {
      "cell_type": "code",
      "metadata": {
        "colab": {
          "base_uri": "https://localhost:8080/"
        },
        "id": "qWFUmj2326aC",
        "outputId": "7e10d6eb-0879-482e-8c8a-31cf3929e9bf"
      },
      "source": [
        "mean_group_a, mean_group_b= weight_loss['weight_loss_a'].mean(), weight_loss['weight_loss_b'].mean()\n",
        "mean_group_a, mean_group_b\n",
        "\n"
      ],
      "execution_count": 4,
      "outputs": [
        {
          "output_type": "execute_result",
          "data": {
            "text/plain": [
              "(2.82, 5.34)"
            ]
          },
          "metadata": {
            "tags": []
          },
          "execution_count": 4
        }
      ]
    },
    {
      "cell_type": "code",
      "metadata": {
        "colab": {
          "base_uri": "https://localhost:8080/"
        },
        "id": "9OGYH5DP3V63",
        "outputId": "ab4a4e50-7abc-49ed-f4db-949c86d14669"
      },
      "source": [
        "mean_difference=mean_group_b- mean_group_a\n",
        "print(mean_difference)"
      ],
      "execution_count": 5,
      "outputs": [
        {
          "output_type": "stream",
          "text": [
            "2.52\n"
          ],
          "name": "stdout"
        }
      ]
    },
    {
      "cell_type": "code",
      "metadata": {
        "id": "aQ9lsd_K5pry"
      },
      "source": [
        "all_values= pd.concat([weight_loss['weight_loss_a'], weight_loss['weight_loss_b']], ignore_index= True)"
      ],
      "execution_count": 6,
      "outputs": []
    },
    {
      "cell_type": "code",
      "metadata": {
        "id": "8_9gPQZ9DZl-"
      },
      "source": [
        "all_values=list(all_values.values)"
      ],
      "execution_count": 7,
      "outputs": []
    },
    {
      "cell_type": "code",
      "metadata": {
        "id": "RG8tMCITZ-RI"
      },
      "source": [
        "import matplotlib.pyplot as plt"
      ],
      "execution_count": 8,
      "outputs": []
    },
    {
      "cell_type": "code",
      "metadata": {
        "colab": {
          "base_uri": "https://localhost:8080/",
          "height": 264
        },
        "id": "Z2mYMF3rD631",
        "outputId": "ef4359b8-9c4d-466e-f2f6-75fb61e4ff9a"
      },
      "source": [
        "mean_difference = 2.52\n",
        "mean_differences=[]\n",
        "for i in range(1000):\n",
        "    group_a= []\n",
        "    group_b=[]\n",
        "    for value in all_values:\n",
        "        v= np.random.rand()\n",
        "        if v>=0.5:\n",
        "            group_a.append(value)\n",
        "        else:\n",
        "            group_b.append(value)\n",
        "    iteration_mean_difference=np.mean(group_b)-np.mean(group_a)\n",
        "    mean_differences.append(iteration_mean_difference)\n",
        "plt.hist(mean_differences)\n",
        "plt.show()\n",
        "    "
      ],
      "execution_count": 9,
      "outputs": [
        {
          "output_type": "display_data",
          "data": {
            "image/png": "[encoded data removed]",
            "text/plain": [
              "<Figure size 432x288 with 1 Axes>"
            ]
          },
          "metadata": {
            "tags": [],
            "needs_background": "light"
          }
        }
      ]
    },
    {
      "cell_type": "code",
      "metadata": {
        "id": "ORLguuO1Z7M1",
        "colab": {
          "base_uri": "https://localhost:8080/"
        },
        "outputId": "33f2ec62-f161-4f23-ed72-470c0c3ab6cc"
      },
      "source": [
        "sampling_distribution={}\n",
        "for sample in mean_differences:\n",
        "  if sample in sampling_distribution:\n",
        "    sampling_distribution[sample]+=1\n",
        "  else:\n",
        "    sampling_distribution[sample]=1\n",
        "sampling_distribution"
      ],
      "execution_count": 12,
      "outputs": [
        {
          "output_type": "execute_result",
          "data": {
            "text/plain": [
              "{-1.591919191919192: 1,\n",
              " -1.4000000000000004: 1,\n",
              " -1.317326930772309: 1,\n",
              " -1.2942593336009631: 1,\n",
              " -1.2608695652173916: 1,\n",
              " -1.2400000000000002: 1,\n",
              " -1.1199999999999997: 1,\n",
              " -1.1144118827780005: 1,\n",
              " -1.0753205128205123: 1,\n",
              " -1.0742673625050179: 1,\n",
              " -1.0399999999999996: 1,\n",
              " -1.0341228422320357: 1,\n",
              " -0.9571828731492595: 1,\n",
              " -0.9050505050505047: 2,\n",
              " -0.8985507246376812: 1,\n",
              " -0.8928141308711361: 1,\n",
              " -0.8835534213685476: 1,\n",
              " -0.8768472906403937: 1,\n",
              " -0.8727272727272726: 1,\n",
              " -0.8399999999999999: 1,\n",
              " -0.8323232323232319: 1,\n",
              " -0.8180354267310785: 1,\n",
              " -0.8076923076923075: 1,\n",
              " -0.8000000000000003: 2,\n",
              " -0.7948717948717952: 1,\n",
              " -0.7947454844006567: 1,\n",
              " -0.793145654834762: 1,\n",
              " -0.783838383838384: 1,\n",
              " -0.7723805700521882: 1,\n",
              " -0.7599999999999998: 1,\n",
              " -0.7572419420644634: 1,\n",
              " -0.7571028411364549: 1,\n",
              " -0.7548076923076925: 1,\n",
              " -0.7523459812321502: 1,\n",
              " -0.7375201288244768: 1,\n",
              " -0.7326388888888888: 1,\n",
              " -0.731016731016731: 1,\n",
              " -0.7170868347338937: 2,\n",
              " -0.712966680048174: 2,\n",
              " -0.711755233494364: 1,\n",
              " -0.6972624798711755: 1,\n",
              " -0.6920915295062224: 1,\n",
              " -0.6875: 1,\n",
              " -0.6830870279146142: 2,\n",
              " -0.6770708283313329: 3,\n",
              " -0.6756425948592413: 1,\n",
              " -0.6714975845410631: 3,\n",
              " -0.6707070707070706: 2,\n",
              " -0.6688311688311686: 1,\n",
              " -0.6570048309178746: 1,\n",
              " -0.6519470092332398: 1,\n",
              " -0.6498553121124435: 1,\n",
              " -0.6474358974358978: 2,\n",
              " -0.6417846417846413: 1,\n",
              " -0.6400000000000006: 2,\n",
              " -0.6370548219287717: 1,\n",
              " -0.634615384615385: 3,\n",
              " -0.6326776395022078: 2,\n",
              " -0.6305418719211824: 1,\n",
              " -0.6299469604243169: 1,\n",
              " -0.6282467532467533: 1,\n",
              " -0.6167471819645729: 4,\n",
              " -0.6166666666666667: 1,\n",
              " -0.6073717948717947: 1,\n",
              " -0.5945512820512815: 2,\n",
              " -0.5925331192292247: 2,\n",
              " -0.590982286634461: 2,\n",
              " -0.5898989898989901: 1,\n",
              " -0.5894909688013135: 1,\n",
              " -0.576489533011272: 1,\n",
              " -0.5673076923076925: 4,\n",
              " -0.5671765192228198: 1,\n",
              " -0.5634253701480594: 2,\n",
              " -0.5600000000000005: 1,\n",
              " -0.5599343185550087: 1,\n",
              " -0.5570228091236489: 2,\n",
              " -0.5544871794871793: 1,\n",
              " -0.5523885989562429: 3,\n",
              " -0.5507246376811592: 1,\n",
              " -0.5487012987012982: 2,\n",
              " -0.5414141414141418: 2,\n",
              " -0.5414039512400173: 1,\n",
              " -0.5362318840579712: 2,\n",
              " -0.5272435897435899: 1,\n",
              " -0.52: 4,\n",
              " -0.5170068027210881: 1,\n",
              " -0.5144230769230766: 4,\n",
              " -0.5124439004487962: 1,\n",
              " -0.5122440786832598: 1,\n",
              " -0.5104669887278583: 1,\n",
              " -0.5081168831168834: 1,\n",
              " -0.5010101010101007: 2,\n",
              " -0.49936948297604067: 1,\n",
              " -0.4913689281413083: 1,\n",
              " -0.4833933573429374: 3,\n",
              " -0.47699079631852737: 1,\n",
              " -0.474358974358974: 1,\n",
              " -0.4736164736164734: 1,\n",
              " -0.4716442268461849: 1,\n",
              " -0.4702093397745575: 1,\n",
              " -0.46753246753246724: 2,\n",
              " -0.46674826601387176: 2,\n",
              " -0.4663382594417076: 1,\n",
              " -0.46630839189747864: 1,\n",
              " -0.46590909090909083: 2,\n",
              " -0.455716586151369: 3,\n",
              " -0.45122440786832607: 1,\n",
              " -0.4471153846153846: 1,\n",
              " -0.4433773509403758: 3,\n",
              " -0.43999999999999995: 5,\n",
              " -0.43697478991596617: 3,\n",
              " -0.4342948717948718: 4,\n",
              " -0.4319550381372941: 2,\n",
              " -0.4308445532435736: 2,\n",
              " -0.4299516908212557: 1,\n",
              " -0.42828282828282793: 1,\n",
              " -0.4269480519480524: 1,\n",
              " -0.42532467532467555: 2,\n",
              " -0.4252873563218391: 1,\n",
              " -0.4249999999999998: 1,\n",
              " -0.42496899545266675: 1,\n",
              " -0.4202020202020198: 1,\n",
              " -0.4110798875953434: 3,\n",
              " -0.4070512820512824: 2,\n",
              " -0.403361344537815: 4,\n",
              " -0.40000000000000036: 2,\n",
              " -0.3969587835134054: 3,\n",
              " -0.3957307060755335: 1,\n",
              " -0.39423076923076916: 4,\n",
              " -0.39181051786431187: 1,\n",
              " -0.3896940418679553: 1,\n",
              " -0.38787878787878816: 4,\n",
              " -0.38474025974026027: 1,\n",
              " -0.38362959900785487: 1,\n",
              " -0.3797979797979796: 1,\n",
              " -0.3752012882447664: 3,\n",
              " -0.3709353673223603: 1,\n",
              " -0.3669871794871793: 2,\n",
              " -0.36334533813525427: 4,\n",
              " -0.3599999999999999: 2,\n",
              " -0.3569427771108442: 3,\n",
              " -0.35467980295566504: 1,\n",
              " -0.3541666666666665: 3,\n",
              " -0.35166599759132877: 2,\n",
              " -0.34943639291465356: 4,\n",
              " -0.3474747474747475: 1,\n",
              " -0.3457792207792205: 1,\n",
              " -0.3441558441558441: 2,\n",
              " -0.34318555008210216: 1,\n",
              " -0.3412563667232602: 1,\n",
              " -0.33939393939393936: 2,\n",
              " -0.33494363929146553: 1,\n",
              " -0.33123160992013423: 1,\n",
              " -0.33079084704937767: 5,\n",
              " -0.3269230769230771: 2,\n",
              " -0.3233293317326935: 2,\n",
              " -0.3200000000000003: 2,\n",
              " -0.319140140553948: 1,\n",
              " -0.31692677070828346: 2,\n",
              " -0.3141025641025643: 2,\n",
              " -0.31362889983579656: 2,\n",
              " -0.3115214773183461: 2,\n",
              " -0.3070707070707068: 1,\n",
              " -0.30519480519480524: 1,\n",
              " -0.3035495716034271: 1,\n",
              " -0.2946859903381638: 5,\n",
              " -0.29064632677639546: 1,\n",
              " -0.28685897435897445: 3,\n",
              " -0.2833133253301314: 4,\n",
              " -0.2799999999999998: 1,\n",
              " -0.27691076430572226: 4,\n",
              " -0.2740384615384617: 1,\n",
              " -0.271376957045363: 3,\n",
              " -0.26892109500805095: 1,\n",
              " -0.26666666666666705: 2,\n",
              " -0.2646103896103895: 1,\n",
              " -0.2627498980008163: 1,\n",
              " -0.25442834138486337: 2,\n",
              " -0.24679487179487136: 2,\n",
              " -0.2400000000000002: 2,\n",
              " -0.2368947579031615: 2,\n",
              " -0.23397435897435903: 3,\n",
              " -0.23152709359605916: 1,\n",
              " -0.2312324367723808: 5,\n",
              " -0.22866344605475053: 2,\n",
              " -0.22684618523051858: 1,\n",
              " -0.22402597402597424: 1,\n",
              " -0.22240259740259694: 1,\n",
              " -0.22195022439820455: 2,\n",
              " -0.21818181818181825: 4,\n",
              " -0.2141706924315625: 2,\n",
              " -0.20944366526414182: 1,\n",
              " -0.20673076923076916: 2,\n",
              " -0.2051282051282053: 1,\n",
              " -0.20328131252500992: 2,\n",
              " -0.20000000000000018: 1,\n",
              " -0.19999999999999973: 3,\n",
              " -0.1968787515006003: 2,\n",
              " -0.19108791649939816: 4,\n",
              " -0.1904761904761907: 1,\n",
              " -0.18840579710144967: 2,\n",
              " -0.18585858585858617: 1,\n",
              " -0.18344155844155852: 1,\n",
              " -0.18115055079559372: 1,\n",
              " -0.17777777777777803: 1,\n",
              " -0.17391304347826075: 1,\n",
              " -0.17331617331617366: 1,\n",
              " -0.17021276595744705: 2,\n",
              " -0.16666666666666696: 1,\n",
              " -0.16326530612244916: 2,\n",
              " -0.16000000000000014: 1,\n",
              " -0.15686274509803955: 1,\n",
              " -0.1538461538461542: 6,\n",
              " -0.1537825547747005: 1,\n",
              " -0.15094339622641506: 2,\n",
              " -0.1454545454545455: 1,\n",
              " -0.14524683802529648: 2,\n",
              " -0.14285714285714324: 4,\n",
              " -0.14123376623376593: 1,\n",
              " -0.1403508771929829: 3,\n",
              " -0.1379310344827589: 1,\n",
              " -0.13737373737373737: 2,\n",
              " -0.1355932203389827: 1,\n",
              " -0.13365539452496034: 2,\n",
              " -0.13333333333333375: 2,\n",
              " -0.13041613041613065: 1,\n",
              " -0.1300682456844635: 2,\n",
              " -0.12660256410256387: 2,\n",
              " -0.1232492997198884: 5,\n",
              " -0.1200000000000001: 4,\n",
              " -0.11684673869547879: 4,\n",
              " -0.1124431583298886: 1,\n",
              " -0.11079887595343241: 3,\n",
              " -0.1078904991948475: 2,\n",
              " -0.10505050505050484: 4,\n",
              " -0.10444716442268476: 2,\n",
              " -0.10227272727272751: 3,\n",
              " -0.1006493506493511: 3,\n",
              " -0.09955120359037117: 1,\n",
              " -0.0969696969696976: 2,\n",
              " -0.09688013136288998: 1,\n",
              " -0.09670329670329725: 1,\n",
              " -0.09339774557165814: 1,\n",
              " -0.08992372541148086: 3,\n",
              " -0.08911307271963054: 1,\n",
              " -0.08653846153846168: 4,\n",
              " -0.08323329331732676: 3,\n",
              " -0.08319185059422729: 1,\n",
              " -0.07371794871794801: 6,\n",
              " -0.07110376188507672: 1,\n",
              " -0.07065435568044975: 1,\n",
              " -0.0676328502415453: 4,\n",
              " -0.06732348111658393: 1,\n",
              " -0.06464646464646506: 2,\n",
              " -0.06364749082007393: 4,\n",
              " -0.061688311688310904: 4,\n",
              " -0.06006493506493449: 1,\n",
              " -0.05875152998776034: 2,\n",
              " -0.05656565656565604: 3,\n",
              " -0.055829228243021944: 2,\n",
              " -0.053140096618357724: 2,\n",
              " -0.052914427449358925: 1,\n",
              " -0.049779205138499094: 1,\n",
              " -0.046474358974359475: 2,\n",
              " -0.04321728691476601: 2,\n",
              " -0.04074702886247916: 2,\n",
              " -0.040000000000000036: 2,\n",
              " -0.03699033207229885: 1,\n",
              " -0.036814725890355504: 2,\n",
              " -0.03365384615384581: 2,\n",
              " -0.033333333333333215: 2,\n",
              " -0.0305098354074671: 3,\n",
              " -0.027375201288244888: 3,\n",
              " -0.026272577996715896: 1,\n",
              " -0.02110389610389607: 1,\n",
              " -0.019480519480519654: 5,\n",
              " -0.016161616161616266: 3,\n",
              " -0.012882447665056418: 1,\n",
              " -0.009634684865515553: 1,\n",
              " -0.0064102564102563875: 3,\n",
              " -0.005208333333333037: 1,\n",
              " -0.0032012805122052512: 4,\n",
              " -0.0017160017160016139: 1,\n",
              " 0.0: 4,\n",
              " 0.0050441361916773175: 2,\n",
              " 0.009634684865515553: 3,\n",
              " 0.012882447665056418: 2,\n",
              " 0.014778325123153024: 3,\n",
              " 0.016161616161616266: 2,\n",
              " 0.017951856385148623: 1,\n",
              " 0.019480519480519654: 1,\n",
              " 0.02110389610389607: 3,\n",
              " 0.0242424242424244: 4,\n",
              " 0.026272577996715896: 2,\n",
              " 0.027375201288244888: 1,\n",
              " 0.0305098354074671: 2,\n",
              " 0.03365384615384581: 1,\n",
              " 0.036814725890355504: 1,\n",
              " 0.040000000000000036: 4,\n",
              " 0.04321728691476601: 3,\n",
              " 0.046474358974359475: 4,\n",
              " 0.049779205138499094: 2,\n",
              " 0.052914427449358925: 1,\n",
              " 0.053140096618357724: 3,\n",
              " 0.055829228243021944: 1,\n",
              " 0.05656565656565604: 2,\n",
              " 0.05875152998776034: 1,\n",
              " 0.06006493506493449: 4,\n",
              " 0.061688311688310904: 1,\n",
              " 0.06464646464646506: 2,\n",
              " 0.0676328502415453: 2,\n",
              " 0.07065435568044975: 2,\n",
              " 0.07371794871794801: 3,\n",
              " 0.07683073229291715: 4,\n",
              " 0.0790248003362759: 1,\n",
              " 0.08000000000000007: 1,\n",
              " 0.08323329331732676: 3,\n",
              " 0.08653846153846168: 3,\n",
              " 0.08992372541148086: 2,\n",
              " 0.0916666666666659: 1,\n",
              " 0.09425382389417081: 1,\n",
              " 0.09688013136288998: 2,\n",
              " 0.0969696969696976: 2,\n",
              " 0.09955120359037117: 1,\n",
              " 0.10227272727272751: 1,\n",
              " 0.10444716442268476: 1,\n",
              " 0.1078904991948475: 3,\n",
              " 0.11079887595343241: 3,\n",
              " 0.1124431583298886: 2,\n",
              " 0.11378205128205199: 3,\n",
              " 0.1200000000000001: 2,\n",
              " 0.1232492997198884: 2,\n",
              " 0.12660256410256387: 4,\n",
              " 0.1300682456844635: 1,\n",
              " 0.13365539452496034: 5,\n",
              " 0.13737373737373737: 3,\n",
              " 0.1379310344827589: 2,\n",
              " 0.14123376623376593: 1,\n",
              " 0.14524683802529648: 2,\n",
              " 0.14814814814814792: 2,\n",
              " 0.14942528735632177: 1,\n",
              " 0.15094339622641506: 1,\n",
              " 0.1538461538461542: 2,\n",
              " 0.15686274509803955: 5,\n",
              " 0.16000000000000014: 1,\n",
              " 0.16326530612244916: 4,\n",
              " 0.16666666666666696: 3,\n",
              " 0.17021276595744705: 3,\n",
              " 0.17391304347826075: 1,\n",
              " 0.17777777777777803: 2,\n",
              " 0.17898193760262693: 1,\n",
              " 0.18115055079559372: 2,\n",
              " 0.18181818181818166: 2,\n",
              " 0.18344155844155852: 4,\n",
              " 0.18840579710144967: 5,\n",
              " 0.19108791649939816: 1,\n",
              " 0.19391025641025683: 5,\n",
              " 0.1968787515006003: 3,\n",
              " 0.20673076923076916: 1,\n",
              " 0.2103572862304297: 1,\n",
              " 0.2141706924315625: 2,\n",
              " 0.21818181818181825: 3,\n",
              " 0.21827201322860734: 2,\n",
              " 0.22402597402597424: 1,\n",
              " 0.22626262626262594: 3,\n",
              " 0.22684618523051858: 3,\n",
              " 0.22866344605475053: 1,\n",
              " 0.2312324367723808: 1,\n",
              " 0.23152709359605916: 1,\n",
              " 0.23397435897435903: 2,\n",
              " 0.2368947579031615: 3,\n",
              " 0.2400000000000002: 4,\n",
              " 0.24329731892757067: 1,\n",
              " 0.24679487179487136: 5,\n",
              " 0.24716267339218145: 1,\n",
              " 0.2505018065034119: 3,\n",
              " 0.25442834138486337: 1,\n",
              " 0.2585858585858585: 1,\n",
              " 0.2596114096734192: 1,\n",
              " 0.2610837438423643: 2,\n",
              " 0.2627498980008163: 2,\n",
              " 0.2629870129870131: 2,\n",
              " 0.2646103896103895: 1,\n",
              " 0.26764585883312986: 3,\n",
              " 0.271376957045363: 4,\n",
              " 0.27257799671592764: 2,\n",
              " 0.2740384615384617: 3,\n",
              " 0.27691076430572226: 3,\n",
              " 0.27780074410913613: 1,\n",
              " 0.2799999999999998: 2,\n",
              " 0.2833133253301314: 3,\n",
              " 0.28685897435897445: 3,\n",
              " 0.29064632677639546: 1,\n",
              " 0.2946859903381638: 1,\n",
              " 0.30213464696223324: 2,\n",
              " 0.3035495716034271: 2,\n",
              " 0.3035714285714284: 1,\n",
              " 0.30519480519480524: 1,\n",
              " 0.3070707070707068: 1,\n",
              " 0.30844553243574024: 2,\n",
              " 0.3091787439613527: 2,\n",
              " 0.31362889983579656: 1,\n",
              " 0.31692677070828346: 1,\n",
              " 0.319140140553948: 1,\n",
              " 0.3200000000000003: 3,\n",
              " 0.3233293317326935: 1,\n",
              " 0.3269230769230771: 2,\n",
              " 0.33494363929146553: 1,\n",
              " 0.33939393939393936: 1,\n",
              " 0.3441558441558441: 1,\n",
              " 0.3443492452060388: 1,\n",
              " 0.3457792207792205: 2,\n",
              " 0.3474747474747475: 1,\n",
              " 0.35166599759132877: 1,\n",
              " 0.3541666666666665: 1,\n",
              " 0.35467980295566504: 3,\n",
              " 0.3569427771108442: 1,\n",
              " 0.3599999999999999: 2,\n",
              " 0.3604795369987599: 1,\n",
              " 0.36334533813525427: 1,\n",
              " 0.3666666666666667: 1,\n",
              " 0.3669871794871793: 1,\n",
              " 0.3709353673223603: 3,\n",
              " 0.3752012882447664: 3,\n",
              " 0.3842364532019702: 2,\n",
              " 0.38474025974026027: 1,\n",
              " 0.38787878787878816: 1,\n",
              " 0.3896940418679553: 1,\n",
              " 0.39004487964096235: 2,\n",
              " 0.39181051786431187: 1,\n",
              " 0.39423076923076916: 1,\n",
              " 0.3969587835134054: 1,\n",
              " 0.40000000000000036: 4,\n",
              " 0.403361344537815: 3,\n",
              " 0.4070512820512824: 1,\n",
              " 0.4110798875953434: 2,\n",
              " 0.41545893719806726: 1,\n",
              " 0.4202020202020198: 2,\n",
              " 0.42496899545266675: 1,\n",
              " 0.42532467532467555: 1,\n",
              " 0.42594859241126093: 1,\n",
              " 0.4269480519480524: 1,\n",
              " 0.42828282828282793: 3,\n",
              " 0.4299516908212557: 2,\n",
              " 0.4319550381372941: 2,\n",
              " 0.4342948717948718: 3,\n",
              " 0.43697478991596617: 1,\n",
              " 0.43999999999999995: 2,\n",
              " 0.4433773509403758: 5,\n",
              " 0.4471153846153846: 2,\n",
              " 0.455716586151369: 1,\n",
              " 0.46060606060606046: 2,\n",
              " 0.46590909090909083: 3,\n",
              " 0.46674826601387176: 1,\n",
              " 0.4702093397745575: 1,\n",
              " 0.4716442268461849: 1,\n",
              " 0.47209955841027673: 1,\n",
              " 0.474358974358974: 1,\n",
              " 0.47783251231527046: 3,\n",
              " 0.4913689281413083: 3,\n",
              " 0.49597423510466987: 1,\n",
              " 0.5010101010101007: 1,\n",
              " 0.5073891625615765: 1,\n",
              " 0.5081168831168834: 2,\n",
              " 0.5090909090909097: 1,\n",
              " 0.5144230769230766: 3,\n",
              " 0.5170068027210881: 2,\n",
              " 0.5188834154351398: 1,\n",
              " 0.52: 1,\n",
              " 0.5234093637454982: 1,\n",
              " 0.5272435897435899: 2,\n",
              " 0.5315134484142918: 2,\n",
              " 0.5362318840579712: 2,\n",
              " 0.5414141414141418: 1,\n",
              " 0.5470779220779223: 1,\n",
              " 0.5483476132190943: 2,\n",
              " 0.5489871847871024: 1,\n",
              " 0.5494949494949495: 1,\n",
              " 0.5507246376811592: 1,\n",
              " 0.5532435740514074: 1,\n",
              " 0.5544871794871793: 2,\n",
              " 0.5599343185550087: 1,\n",
              " 0.5600000000000005: 3,\n",
              " 0.5673076923076925: 1,\n",
              " 0.571657968687274: 1,\n",
              " 0.5834384195039934: 1,\n",
              " 0.5876623376623376: 1,\n",
              " 0.5891472868217051: 3,\n",
              " 0.5892857142857144: 1,\n",
              " 0.5894909688013135: 1,\n",
              " 0.5916666666666663: 1,\n",
              " 0.5925331192292247: 1,\n",
              " 0.5940432476540187: 1,\n",
              " 0.6034413765506201: 4,\n",
              " 0.6128472222222223: 1,\n",
              " 0.6167471819645729: 2,\n",
              " 0.6282467532467533: 1,\n",
              " 0.6298701298701297: 1,\n",
              " 0.6312399355877614: 2,\n",
              " 0.6474358974358978: 2,\n",
              " 0.6498553121124435: 1,\n",
              " 0.6570048309178746: 1,\n",
              " 0.6626262626262629: 1,\n",
              " 0.6714975845410631: 1,\n",
              " 0.6728221597751909: 3,\n",
              " 0.6749999999999998: 1,\n",
              " 0.6756425948592413: 1,\n",
              " 0.6770708283313329: 2,\n",
              " 0.6799999999999997: 1,\n",
              " 0.6830870279146142: 2,\n",
              " 0.6834733893557425: 1,\n",
              " 0.6875: 2,\n",
              " 0.6920915295062224: 1,\n",
              " 0.7094155844155847: 1,\n",
              " 0.7110389610389616: 1,\n",
              " 0.712966680048174: 1,\n",
              " 0.7143447705663495: 1,\n",
              " 0.7234893957583033: 2,\n",
              " 0.7434343434343433: 1,\n",
              " 0.7531112003211557: 1,\n",
              " 0.7599999999999998: 2,\n",
              " 0.763505402160864: 2,\n",
              " 0.7676282051282053: 4,\n",
              " 0.783838383838384: 1,\n",
              " 0.7919191919191921: 1,\n",
              " 0.7922705314009666: 1,\n",
              " 0.793145654834762: 1,\n",
              " 0.7932557205941388: 1,\n",
              " 0.8000000000000003: 1,\n",
              " 0.8035214085634252: 1,\n",
              " 0.8076923076923075: 1,\n",
              " 0.8125250903251704: 1,\n",
              " 0.8242424242424242: 1,\n",
              " 0.8327922077922074: 1,\n",
              " 0.8334002408671219: 1,\n",
              " 0.8349358974358974: 1,\n",
              " 0.8666666666666663: 1,\n",
              " 0.8768472906403937: 1,\n",
              " 0.9130434782608696: 1,\n",
              " 0.9131313131313132: 1,\n",
              " 0.9139610389610384: 1,\n",
              " 0.9155446756425949: 1,\n",
              " 0.9171668667466988: 1,\n",
              " 0.9278846153846154: 1,\n",
              " 0.9293924466338255: 1,\n",
              " 0.9563443492452057: 1,\n",
              " 0.9571828731492595: 1,\n",
              " 0.9599999999999995: 1,\n",
              " 0.9731031714171019: 1,\n",
              " 0.9790660225442833: 1,\n",
              " 0.9971440228478174: 1,\n",
              " 1.0262626262626267: 1,\n",
              " 1.0352564102564101: 1,\n",
              " 1.0742673625050179: 1,\n",
              " 1.08: 1,\n",
              " 1.107070707070707: 1,\n",
              " 1.1151515151515152: 1,\n",
              " 1.115384615384615: 1,\n",
              " 1.2468380252957973: 1,\n",
              " 1.3171717171717172: 1,\n",
              " 1.3833333333333337: 1}"
            ]
          },
          "metadata": {
            "tags": []
          },
          "execution_count": 12
        }
      ]
    },
    {
      "cell_type": "code",
      "metadata": {
        "id": "O8lPmG7g3IN5"
      },
      "source": [
        "frequencies=[]\n",
        "for sample in sampling_distribution.keys():\n",
        "    if sample> 2.52:\n",
        "        frequencies.append(sampling_distribution[sample])\n",
        "sum_value= np.sum(frequencies)\n",
        "p_value= sum_value/1000"
      ],
      "execution_count": 13,
      "outputs": []
    },
    {
      "cell_type": "code",
      "metadata": {
        "colab": {
          "base_uri": "https://localhost:8080/"
        },
        "id": "x2gOskU85aA2",
        "outputId": "912cd771-7c0a-4b00-9c75-e49669279e64"
      },
      "source": [
        "p_value  "
      ],
      "execution_count": 14,
      "outputs": [
        {
          "output_type": "execute_result",
          "data": {
            "text/plain": [
              "0.0"
            ]
          },
          "metadata": {
            "tags": []
          },
          "execution_count": 14
        }
      ]
    },
    {
      "cell_type": "markdown",
      "metadata": {
        "id": "GMDJcMaY508A"
      },
      "source": [
        "since p_value is less than 0.05 so we can reject null hypothesis and confirm that there is difference due to work_on not due to random chance\n"
      ]
    },
    {
      "cell_type": "markdown",
      "metadata": {
        "id": "pNh34V9q6k6H"
      },
      "source": [
        "The p value threshold you set can also affect the conclusion you reach.\n",
        "\n",
        "\n",
        "If you set too high of a p value threshold, you may reject the null hypothesis incorrectly. This is known as a type I error.\n",
        "\n",
        "If you set too low of a p value threshold, you may fail to reject the null hypothesis incorrectly. This is known as a type II error."
      ]
    },
    {
      "cell_type": "code",
      "metadata": {
        "id": "hDBi-FE16muz"
      },
      "source": [
        ""
      ],
      "execution_count": null,
      "outputs": []
    },
    {
      "cell_type": "code",
      "metadata": {
        "id": "ASQ1Rp1D5cPW"
      },
      "source": [
        ""
      ],
      "execution_count": null,
      "outputs": []
    }
  ]
}